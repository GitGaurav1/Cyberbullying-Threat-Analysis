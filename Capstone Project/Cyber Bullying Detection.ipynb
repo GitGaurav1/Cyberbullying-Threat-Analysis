{
 "cells": [
  {
   "cell_type": "code",
   "execution_count": 32,
   "id": "56cb46fe-5b9b-4d8f-aa38-bb5354262a29",
   "metadata": {},
   "outputs": [],
   "source": [
    "import pandas as pd\n",
    "import numpy as np\n",
    "import matplotlib.pyplot as plt\n",
    "import seaborn as sns\n",
    "plt.style.use(\"ggplot\")\n",
    "\n",
    "import re\n",
    "import nltk\n",
    "\n",
    "from sklearn.feature_extraction.text import TfidfVectorizer, TfidfTransformer, CountVectorizer\n",
    "from nltk import sent_tokenize, word_tokenize\n",
    "from sklearn.metrics import f1_score, accuracy_score, precision_score, recall_score, make_scorer\n",
    "\n",
    "from time import time\n",
    "import pickle"
   ]
  },
  {
   "cell_type": "code",
   "execution_count": 33,
   "id": "2d8e9a13-5cff-469c-b7d0-652ad14e0df6",
   "metadata": {},
   "outputs": [],
   "source": [
    "df = pd.read_csv(\"dataset.csv\")"
   ]
  },
  {
   "cell_type": "code",
   "execution_count": 34,
   "id": "ee45e06f-2f78-4c99-87d9-32b8566d0a39",
   "metadata": {},
   "outputs": [
    {
     "data": {
      "text/html": [
       "<div>\n",
       "<style scoped>\n",
       "    .dataframe tbody tr th:only-of-type {\n",
       "        vertical-align: middle;\n",
       "    }\n",
       "\n",
       "    .dataframe tbody tr th {\n",
       "        vertical-align: top;\n",
       "    }\n",
       "\n",
       "    .dataframe thead th {\n",
       "        text-align: right;\n",
       "    }\n",
       "</style>\n",
       "<table border=\"1\" class=\"dataframe\">\n",
       "  <thead>\n",
       "    <tr style=\"text-align: right;\">\n",
       "      <th></th>\n",
       "      <th>headline</th>\n",
       "      <th>label</th>\n",
       "    </tr>\n",
       "  </thead>\n",
       "  <tbody>\n",
       "    <tr>\n",
       "      <th>0</th>\n",
       "      <td>You are so pathetic, just disappear.</td>\n",
       "      <td>-1</td>\n",
       "    </tr>\n",
       "    <tr>\n",
       "      <th>1</th>\n",
       "      <td>No one likes you, stop trying.</td>\n",
       "      <td>-1</td>\n",
       "    </tr>\n",
       "    <tr>\n",
       "      <th>2</th>\n",
       "      <td>You’ll never be good at anything.</td>\n",
       "      <td>-1</td>\n",
       "    </tr>\n",
       "    <tr>\n",
       "      <th>3</th>\n",
       "      <td>Everyone hates you, loser.</td>\n",
       "      <td>-1</td>\n",
       "    </tr>\n",
       "    <tr>\n",
       "      <th>4</th>\n",
       "      <td>Just quit, you’re worthless.</td>\n",
       "      <td>-1</td>\n",
       "    </tr>\n",
       "  </tbody>\n",
       "</table>\n",
       "</div>"
      ],
      "text/plain": [
       "                               headline  label\n",
       "0  You are so pathetic, just disappear.     -1\n",
       "1        No one likes you, stop trying.     -1\n",
       "2     You’ll never be good at anything.     -1\n",
       "3            Everyone hates you, loser.     -1\n",
       "4          Just quit, you’re worthless.     -1"
      ]
     },
     "execution_count": 34,
     "metadata": {},
     "output_type": "execute_result"
    }
   ],
   "source": [
    "\n",
    "df.head()"
   ]
  },
  {
   "cell_type": "code",
   "execution_count": 35,
   "id": "e6fed277-5393-418f-b951-ce31d92d1b6e",
   "metadata": {},
   "outputs": [
    {
     "data": {
      "text/plain": [
       "array([-1,  0], dtype=int64)"
      ]
     },
     "execution_count": 35,
     "metadata": {},
     "output_type": "execute_result"
    }
   ],
   "source": [
    "df['label'].unique()"
   ]
  },
  {
   "cell_type": "markdown",
   "id": "3fefa0d6-5990-4ffa-9276-c938f9b75c52",
   "metadata": {},
   "source": [
    "Dataframe manipulation\n"
   ]
  },
  {
   "cell_type": "code",
   "execution_count": 36,
   "id": "707a6374-5662-4e1f-9edf-97ed838fa1eb",
   "metadata": {},
   "outputs": [],
   "source": [
    "def perform_data_manipulation():\n",
    "    df = pd.read_csv(\"dataset.csv\")\n",
    "    \n",
    "    for index in df.index:\n",
    "        if df.loc[index, \"label\"]==-1:\n",
    "            df.loc[index, \"label\"] = 1\n",
    "    return df"
   ]
  },
  {
   "cell_type": "code",
   "execution_count": 37,
   "id": "18821f4e-31a2-473a-920e-c96fd7c5c3b2",
   "metadata": {},
   "outputs": [],
   "source": [
    "df = perform_data_manipulation()"
   ]
  },
  {
   "cell_type": "code",
   "execution_count": 38,
   "id": "321f0537-0e9f-43fc-8397-033622568634",
   "metadata": {},
   "outputs": [
    {
     "data": {
      "text/html": [
       "<div>\n",
       "<style scoped>\n",
       "    .dataframe tbody tr th:only-of-type {\n",
       "        vertical-align: middle;\n",
       "    }\n",
       "\n",
       "    .dataframe tbody tr th {\n",
       "        vertical-align: top;\n",
       "    }\n",
       "\n",
       "    .dataframe thead th {\n",
       "        text-align: right;\n",
       "    }\n",
       "</style>\n",
       "<table border=\"1\" class=\"dataframe\">\n",
       "  <thead>\n",
       "    <tr style=\"text-align: right;\">\n",
       "      <th></th>\n",
       "      <th>headline</th>\n",
       "      <th>label</th>\n",
       "    </tr>\n",
       "  </thead>\n",
       "  <tbody>\n",
       "    <tr>\n",
       "      <th>0</th>\n",
       "      <td>You are so pathetic, just disappear.</td>\n",
       "      <td>1</td>\n",
       "    </tr>\n",
       "    <tr>\n",
       "      <th>1</th>\n",
       "      <td>No one likes you, stop trying.</td>\n",
       "      <td>1</td>\n",
       "    </tr>\n",
       "    <tr>\n",
       "      <th>2</th>\n",
       "      <td>You’ll never be good at anything.</td>\n",
       "      <td>1</td>\n",
       "    </tr>\n",
       "    <tr>\n",
       "      <th>3</th>\n",
       "      <td>Everyone hates you, loser.</td>\n",
       "      <td>1</td>\n",
       "    </tr>\n",
       "    <tr>\n",
       "      <th>4</th>\n",
       "      <td>Just quit, you’re worthless.</td>\n",
       "      <td>1</td>\n",
       "    </tr>\n",
       "  </tbody>\n",
       "</table>\n",
       "</div>"
      ],
      "text/plain": [
       "                               headline  label\n",
       "0  You are so pathetic, just disappear.      1\n",
       "1        No one likes you, stop trying.      1\n",
       "2     You’ll never be good at anything.      1\n",
       "3            Everyone hates you, loser.      1\n",
       "4          Just quit, you’re worthless.      1"
      ]
     },
     "execution_count": 38,
     "metadata": {},
     "output_type": "execute_result"
    }
   ],
   "source": [
    "df.head()"
   ]
  },
  {
   "cell_type": "code",
   "execution_count": 39,
   "id": "4291587a-82db-426c-9b49-e6538d3f56c0",
   "metadata": {},
   "outputs": [
    {
     "data": {
      "text/plain": [
       "array([1, 0], dtype=int64)"
      ]
     },
     "execution_count": 39,
     "metadata": {},
     "output_type": "execute_result"
    }
   ],
   "source": [
    "df['label'].unique()"
   ]
  },
  {
   "cell_type": "code",
   "execution_count": 40,
   "id": "f74ca676-496d-4c34-8da9-a002dfeb83ff",
   "metadata": {},
   "outputs": [
    {
     "data": {
      "text/plain": [
       "18150"
      ]
     },
     "execution_count": 40,
     "metadata": {},
     "output_type": "execute_result"
    }
   ],
   "source": [
    "df.shape[0]"
   ]
  },
  {
   "cell_type": "markdown",
   "id": "9388e3d3-2255-48ec-9d5d-a3c6ebaf0cee",
   "metadata": {},
   "source": [
    "Classification using Pie Chart"
   ]
  },
  {
   "cell_type": "code",
   "execution_count": 41,
   "id": "7862cfde-bdce-4327-952c-c1b651bfc7e7",
   "metadata": {},
   "outputs": [],
   "source": [
    "def performdatadistribution(df):\n",
    "    total = df.shape[0]\n",
    "    num_non_toxic = df[df['label']==0].shape[0]\n",
    "    \n",
    "    slices = [num_non_toxic/total, (total-num_non_toxic)/total]\n",
    "    \n",
    "    labeling = ['Non-Toxic', 'Toxic']\n",
    "    \n",
    "    explode = [0.2, 0]\n",
    "    \n",
    "    plt.pie(slices, explode = explode, shadow=True, autopct=\"%1.1f%%\", labels = labeling, wedgeprops={'edgecolor': 'black'})\n",
    "    \n",
    "    plt.title('Number of Toxic Vs Non- Toxic Test Sample')\n",
    "    \n",
    "    plt.tight_layout()\n",
    "    \n",
    "    plt.show()"
   ]
  },
  {
   "cell_type": "code",
   "execution_count": 42,
   "id": "195a9fc4-fb8a-4faf-b466-2b8110e5b630",
   "metadata": {},
   "outputs": [
    {
     "data": {
      "image/png": "[encoded data removed]",
      "text/plain": [
       "<Figure size 640x480 with 1 Axes>"
      ]
     },
     "metadata": {},
     "output_type": "display_data"
    }
   ],
   "source": [
    "performdatadistribution(df)"
   ]
  },
  {
   "cell_type": "code",
   "execution_count": 43,
   "id": "b64f91c6-93fe-43ec-865d-88dd54726767",
   "metadata": {},
   "outputs": [],
   "source": [
    "def remove_pattern(input_txt, pattern):\n",
    "    if (type(input_txt)==str):\n",
    "        r = re.findall(pattern, input_txt)\n",
    "        for i in r:\n",
    "            input_txt = re.sub(i, '', input_txt)\n",
    "        return input_txt\n",
    "    else:\n",
    "        return \"\""
   ]
  },
  {
   "cell_type": "code",
   "execution_count": 44,
   "id": "73721c14-cbed-4dab-863c-913a25255279",
   "metadata": {},
   "outputs": [
    {
     "data": {
      "text/html": [
       "<div>\n",
       "<style scoped>\n",
       "    .dataframe tbody tr th:only-of-type {\n",
       "        vertical-align: middle;\n",
       "    }\n",
       "\n",
       "    .dataframe tbody tr th {\n",
       "        vertical-align: top;\n",
       "    }\n",
       "\n",
       "    .dataframe thead th {\n",
       "        text-align: right;\n",
       "    }\n",
       "</style>\n",
       "<table border=\"1\" class=\"dataframe\">\n",
       "  <thead>\n",
       "    <tr style=\"text-align: right;\">\n",
       "      <th></th>\n",
       "      <th>headline</th>\n",
       "      <th>label</th>\n",
       "    </tr>\n",
       "  </thead>\n",
       "  <tbody>\n",
       "    <tr>\n",
       "      <th>0</th>\n",
       "      <td>You are so pathetic, just disappear.</td>\n",
       "      <td>1</td>\n",
       "    </tr>\n",
       "  </tbody>\n",
       "</table>\n",
       "</div>"
      ],
      "text/plain": [
       "                               headline  label\n",
       "0  You are so pathetic, just disappear.      1"
      ]
     },
     "execution_count": 44,
     "metadata": {},
     "output_type": "execute_result"
    }
   ],
   "source": [
    "df.head(1)"
   ]
  },
  {
   "cell_type": "code",
   "execution_count": 45,
   "id": "c81f9f5f-35f0-4fd1-bb40-96af8141ed34",
   "metadata": {},
   "outputs": [],
   "source": [
    "def datasetCleaning(df):\n",
    "    # Add a column for the length of the headlines\n",
    "    df['length_headline'] = df['headline'].str.len()\n",
    "    \n",
    "    # Combine the dataframe with itself\n",
    "    combined_df = pd.concat([df, df], ignore_index=True)\n",
    "    \n",
    "    # Remove @user patterns\n",
    "    combined_df['tidy_tweet'] = np.vectorize(remove_pattern)(combined_df['headline'], \"@[\\w]*\")\n",
    "    \n",
    "    # Remove non-alphabetic characters\n",
    "    combined_df['tidy_tweet'] = combined_df['tidy_tweet'].str.replace(\"[^a-zA-Z#]\", \" \", regex=True)\n",
    "    \n",
    "    # Remove all words with length less than 3\n",
    "    combined_df['tidy_tweet'] = combined_df['tidy_tweet'].apply(lambda x: ' '.join([w for w in x.split() if len(w) > 3]))\n",
    "    \n",
    "    # Add a column for the length of the cleaned tweets\n",
    "    combined_df['length_tidy_tweet'] = combined_df['tidy_tweet'].str.len()\n",
    "    \n",
    "    # Tokenize the tweets\n",
    "    tokenized_tweet = combined_df['tidy_tweet'].apply(lambda x: x.split())\n",
    "    \n",
    "    # Download NLTK WordNet data (if not already downloaded)\n",
    "    nltk.download('wordnet')\n",
    "    \n",
    "    # Lemmatize tokens\n",
    "    lemmatizer = nltk.stem.WordNetLemmatizer()\n",
    "    tokenized_tweet = tokenized_tweet.apply(lambda x: [lemmatizer.lemmatize(i) for i in x])\n",
    "    \n",
    "    # Join tokens back into sentences\n",
    "    tokenized_tweet = tokenized_tweet.apply(lambda x: ' '.join(x))\n",
    "    combined_df['tidy_tweet'] = tokenized_tweet\n",
    "    \n",
    "    return combined_df, df"
   ]
  },
  {
   "cell_type": "code",
   "execution_count": 46,
   "id": "9fd85f20-13a8-43b0-8ed1-3a953ba775f8",
   "metadata": {},
   "outputs": [
    {
     "name": "stderr",
     "output_type": "stream",
     "text": [
      "[nltk_data] Downloading package wordnet to\n",
      "[nltk_data]     C:\\Users\\acer\\AppData\\Roaming\\nltk_data...\n",
      "[nltk_data]   Package wordnet is already up-to-date!\n"
     ]
    }
   ],
   "source": [
    "# Call the function\n",
    "combined_df, df = datasetCleaning(df)"
   ]
  },
  {
   "cell_type": "code",
   "execution_count": 47,
   "id": "057a3963-fb17-43c2-ac32-1dab0fab9000",
   "metadata": {},
   "outputs": [
    {
     "data": {
      "text/html": [
       "<div>\n",
       "<style scoped>\n",
       "    .dataframe tbody tr th:only-of-type {\n",
       "        vertical-align: middle;\n",
       "    }\n",
       "\n",
       "    .dataframe tbody tr th {\n",
       "        vertical-align: top;\n",
       "    }\n",
       "\n",
       "    .dataframe thead th {\n",
       "        text-align: right;\n",
       "    }\n",
       "</style>\n",
       "<table border=\"1\" class=\"dataframe\">\n",
       "  <thead>\n",
       "    <tr style=\"text-align: right;\">\n",
       "      <th></th>\n",
       "      <th>headline</th>\n",
       "      <th>label</th>\n",
       "      <th>length_headline</th>\n",
       "      <th>tidy_tweet</th>\n",
       "      <th>length_tidy_tweet</th>\n",
       "    </tr>\n",
       "  </thead>\n",
       "  <tbody>\n",
       "    <tr>\n",
       "      <th>0</th>\n",
       "      <td>You are so pathetic, just disappear.</td>\n",
       "      <td>1</td>\n",
       "      <td>36</td>\n",
       "      <td>pathetic just disappear</td>\n",
       "      <td>23</td>\n",
       "    </tr>\n",
       "    <tr>\n",
       "      <th>1</th>\n",
       "      <td>No one likes you, stop trying.</td>\n",
       "      <td>1</td>\n",
       "      <td>30</td>\n",
       "      <td>like stop trying</td>\n",
       "      <td>17</td>\n",
       "    </tr>\n",
       "    <tr>\n",
       "      <th>2</th>\n",
       "      <td>You’ll never be good at anything.</td>\n",
       "      <td>1</td>\n",
       "      <td>33</td>\n",
       "      <td>never good anything</td>\n",
       "      <td>19</td>\n",
       "    </tr>\n",
       "    <tr>\n",
       "      <th>3</th>\n",
       "      <td>Everyone hates you, loser.</td>\n",
       "      <td>1</td>\n",
       "      <td>26</td>\n",
       "      <td>Everyone hate loser</td>\n",
       "      <td>20</td>\n",
       "    </tr>\n",
       "    <tr>\n",
       "      <th>4</th>\n",
       "      <td>Just quit, you’re worthless.</td>\n",
       "      <td>1</td>\n",
       "      <td>28</td>\n",
       "      <td>Just quit worthless</td>\n",
       "      <td>19</td>\n",
       "    </tr>\n",
       "  </tbody>\n",
       "</table>\n",
       "</div>"
      ],
      "text/plain": [
       "                               headline  label  length_headline  \\\n",
       "0  You are so pathetic, just disappear.      1               36   \n",
       "1        No one likes you, stop trying.      1               30   \n",
       "2     You’ll never be good at anything.      1               33   \n",
       "3            Everyone hates you, loser.      1               26   \n",
       "4          Just quit, you’re worthless.      1               28   \n",
       "\n",
       "                tidy_tweet  length_tidy_tweet  \n",
       "0  pathetic just disappear                 23  \n",
       "1         like stop trying                 17  \n",
       "2      never good anything                 19  \n",
       "3      Everyone hate loser                 20  \n",
       "4      Just quit worthless                 19  "
      ]
     },
     "execution_count": 47,
     "metadata": {},
     "output_type": "execute_result"
    }
   ],
   "source": [
    "combined_df.head()"
   ]
  },
  {
   "cell_type": "markdown",
   "id": "5f3af1e4-9de8-436e-bbb3-322f000a8d87",
   "metadata": {},
   "source": [
    "Dataset Splitting"
   ]
  },
  {
   "cell_type": "code",
   "execution_count": 48,
   "id": "1fc2fcd1-2470-4b58-8d1e-9cc44bf8a450",
   "metadata": {},
   "outputs": [],
   "source": [
    "from sklearn.model_selection import train_test_split"
   ]
  },
  {
   "cell_type": "code",
   "execution_count": 49,
   "id": "36cbe73e-d935-44eb-9b62-3f7e869bdb6d",
   "metadata": {},
   "outputs": [],
   "source": [
    "def performdatasplit(x, y, combined_df, df):\n",
    "    X_train, X_test, y_train, y_test = train_test_split(combined_df['tidy_tweet'], combined_df['label'], test_size = x, random_state = y)\n",
    "    print(f\"Number of rows in the total dataset: {combined_df.shape[0]}\")\n",
    "    print(f\"Number of rows in the train dataset: {X_train.shape[0]}\")\n",
    "    print(f\"Number of rows in the test dataset: {X_test.shape[0]}\")\n",
    "    \n",
    "    files = open(\"stopwords.txt\" , \"r\")\n",
    "    content = files.read()\n",
    "    content_list = content.split(\"\\n\")\n",
    "    files.close()\n",
    "    \n",
    "    tfidfvector = TfidfVectorizer(stop_words=content_list, lowercase=True)\n",
    "    \n",
    "    training_data = tfidfvector.fit_transform(X_train.values.astype('U'))\n",
    "    \n",
    "    testing_data = tfidfvector.transform(X_test.values.astype('U'))\n",
    "    \n",
    "    filename = 'tfidfvectoizer.pkl'\n",
    "    \n",
    "    pickle.dump(tfidfvector.vocabulary_, open(filename, 'wb'))\n",
    "    \n",
    "    return X_train , X_test, y_train, y_test, testing_data, filename, training_data, content_list"
   ]
  },
  {
   "cell_type": "code",
   "execution_count": 50,
   "id": "6120e1a7-62fc-4aac-8989-ed1696db2b60",
   "metadata": {},
   "outputs": [
    {
     "name": "stdout",
     "output_type": "stream",
     "text": [
      "Number of rows in the total dataset: 36300\n",
      "Number of rows in the train dataset: 29040\n",
      "Number of rows in the test dataset: 7260\n"
     ]
    },
    {
     "name": "stderr",
     "output_type": "stream",
     "text": [
      "C:\\Python311\\Lib\\site-packages\\sklearn\\feature_extraction\\text.py:406: UserWarning: Your stop_words may be inconsistent with your preprocessing. Tokenizing the stop words generated tokens ['ninad'] not in stop_words.\n",
      "  warnings.warn(\n"
     ]
    }
   ],
   "source": [
    "X_train , X_test, y_train, y_test, testing_data, filename, training_data, content_list = performdatasplit(0.2, 42, combined_df, df)"
   ]
  },
  {
   "cell_type": "markdown",
   "id": "9590bcbe-b2a1-4e66-8f47-0cd9e09c8d0c",
   "metadata": {},
   "source": [
    "Apply Machine Learning Algorithm"
   ]
  },
  {
   "cell_type": "code",
   "execution_count": 51,
   "id": "0cf6fb37-8eca-4b09-a534-32397c11c8d4",
   "metadata": {},
   "outputs": [],
   "source": [
    "import xgboost as xgb\n",
    "from sklearn.naive_bayes import MultinomialNB\n",
    "from sklearn.tree import DecisionTreeClassifier\n",
    "from sklearn.svm import LinearSVC\n",
    "from sklearn.ensemble import AdaBoostClassifier, RandomForestClassifier, BaggingClassifier\n",
    "from sklearn.linear_model import LogisticRegression, SGDClassifier\n",
    "from sklearn.neighbors import KNeighborsClassifier"
   ]
  },
  {
   "cell_type": "code",
   "execution_count": 52,
   "id": "ddd89e03-3bae-4171-9ec6-684cc8da0212",
   "metadata": {},
   "outputs": [],
   "source": [
    "def pipeline(X_train, y_train, X_test, y_test):\n",
    "    MODELS = [LinearSVC(), LogisticRegression(), MultinomialNB(), DecisionTreeClassifier(),\n",
    "              AdaBoostClassifier(), BaggingClassifier(), SGDClassifier()]\n",
    "    \n",
    "    size = len(y_train)\n",
    "    \n",
    "    results = {}\n",
    "    \n",
    "    final_result = []\n",
    "    \n",
    "    for model in MODELS:\n",
    "        results['Algorithm'] = model.__class__.__name__\n",
    "        \n",
    "        start = time()\n",
    "        print(f\"Training Time : {model.__class__.__name__}\")\n",
    "        model.fit(X_train, y_train)\n",
    "        end = time()\n",
    "        \n",
    "        filename = model.__class__.__name__+\".pkl\"\n",
    "        pickle.dump(model, open(filename, \"wb\"))\n",
    "        \n",
    "        results['Training Time'] = end - start\n",
    "        \n",
    "        start = time()\n",
    "        prediction_test = model.predict(X_test)\n",
    "        prediction_train = model.predict(X_train)\n",
    "        end = time()\n",
    "        \n",
    "        results['Prediction Time'] = end - start\n",
    "        \n",
    "        results['Accuracy : Test'] = accuracy_score(y_test, prediction_test)\n",
    "        results['Accuracy : Train'] = accuracy_score(y_train, prediction_train)\n",
    "        \n",
    "        results['F1 Score : Test'] = f1_score(y_test, prediction_test, average='weighted')\n",
    "        results['F1 Score : Train'] = f1_score(y_train, prediction_train, average='weighted')\n",
    "        \n",
    "        results['Precision : Test'] = precision_score(y_test, prediction_test, average='weighted')\n",
    "        results['Precision : Train'] = precision_score(y_train, prediction_train, average='weighted')\n",
    "        \n",
    "        results['Recall : Test'] = recall_score(y_test, prediction_test, average='weighted')\n",
    "        results['Recall : Train'] = recall_score(y_train, prediction_train, average='weighted')\n",
    "        \n",
    "        print(f\"Training {model.__class__.__name__} finished in {results['Training Time']} sec\")\n",
    "        \n",
    "        final_result.append(results.copy())\n",
    "    return final_result\n"
   ]
  },
  {
   "cell_type": "code",
   "execution_count": 53,
   "id": "414aa8d5-72d1-4de8-9ca7-b093c2362d75",
   "metadata": {},
   "outputs": [
    {
     "name": "stdout",
     "output_type": "stream",
     "text": [
      "Training Time : LinearSVC\n",
      "Training LinearSVC finished in 0.17549657821655273 sec\n",
      "Training Time : LogisticRegression\n",
      "Training LogisticRegression finished in 0.5117976665496826 sec\n",
      "Training Time : MultinomialNB\n",
      "Training MultinomialNB finished in 0.014039754867553711 sec\n",
      "Training Time : DecisionTreeClassifier\n",
      "Training DecisionTreeClassifier finished in 11.636869192123413 sec\n",
      "Training Time : AdaBoostClassifier\n"
     ]
    },
    {
     "name": "stderr",
     "output_type": "stream",
     "text": [
      "C:\\Python311\\Lib\\site-packages\\sklearn\\ensemble\\_weight_boosting.py:527: FutureWarning: The SAMME.R algorithm (the default) is deprecated and will be removed in 1.6. Use the SAMME algorithm to circumvent this warning.\n",
      "  warnings.warn(\n"
     ]
    },
    {
     "name": "stdout",
     "output_type": "stream",
     "text": [
      "Training AdaBoostClassifier finished in 7.524925947189331 sec\n",
      "Training Time : BaggingClassifier\n",
      "Training BaggingClassifier finished in 104.85582041740417 sec\n",
      "Training Time : SGDClassifier\n",
      "Training SGDClassifier finished in 0.08571004867553711 sec\n"
     ]
    }
   ],
   "source": [
    "\n",
    "final_result = pipeline(training_data, y_train, testing_data, y_test)"
   ]
  },
  {
   "cell_type": "code",
   "execution_count": 54,
   "id": "c22d8743-3555-4b14-a1ff-584fce638fc4",
   "metadata": {},
   "outputs": [],
   "source": [
    "def performfinalresult(final_results):\n",
    "    results = pd.DataFrame(final_results)\n",
    "    results.reindex(columns = ['Algorithm', 'Accuracy : Test', 'Precision : Test', 'Recall : Test', 'F1 Score : Test', 'Prediction Time',\n",
    "                          'Accuracy : Train', 'Precision : Train', 'Recall : Train', 'F1 Score : Train', 'Training Time'])\n",
    "    results.sort_values(by = 'F1 Score : Test', inplace=True, ascending=False)\n",
    "    \n",
    "    return results"
   ]
  },
  {
   "cell_type": "code",
   "execution_count": 55,
   "id": "cb5cd23e-1497-4e1b-af8a-6eddb5a2da40",
   "metadata": {},
   "outputs": [
    {
     "data": {
      "text/html": [
       "<div>\n",
       "<style scoped>\n",
       "    .dataframe tbody tr th:only-of-type {\n",
       "        vertical-align: middle;\n",
       "    }\n",
       "\n",
       "    .dataframe tbody tr th {\n",
       "        vertical-align: top;\n",
       "    }\n",
       "\n",
       "    .dataframe thead th {\n",
       "        text-align: right;\n",
       "    }\n",
       "</style>\n",
       "<table border=\"1\" class=\"dataframe\">\n",
       "  <thead>\n",
       "    <tr style=\"text-align: right;\">\n",
       "      <th></th>\n",
       "      <th>Algorithm</th>\n",
       "      <th>Training Time</th>\n",
       "      <th>Prediction Time</th>\n",
       "      <th>Accuracy : Test</th>\n",
       "      <th>Accuracy : Train</th>\n",
       "      <th>F1 Score : Test</th>\n",
       "      <th>F1 Score : Train</th>\n",
       "      <th>Precision : Test</th>\n",
       "      <th>Precision : Train</th>\n",
       "      <th>Recall : Test</th>\n",
       "      <th>Recall : Train</th>\n",
       "    </tr>\n",
       "  </thead>\n",
       "  <tbody>\n",
       "    <tr>\n",
       "      <th>0</th>\n",
       "      <td>DecisionTreeClassifier</td>\n",
       "      <td>11.636869</td>\n",
       "      <td>0.075253</td>\n",
       "      <td>0.973691</td>\n",
       "      <td>0.996247</td>\n",
       "      <td>0.973697</td>\n",
       "      <td>0.996244</td>\n",
       "      <td>0.973704</td>\n",
       "      <td>0.996251</td>\n",
       "      <td>0.973691</td>\n",
       "      <td>0.996247</td>\n",
       "    </tr>\n",
       "    <tr>\n",
       "      <th>1</th>\n",
       "      <td>BaggingClassifier</td>\n",
       "      <td>104.855820</td>\n",
       "      <td>0.871345</td>\n",
       "      <td>0.969284</td>\n",
       "      <td>0.994525</td>\n",
       "      <td>0.969335</td>\n",
       "      <td>0.994522</td>\n",
       "      <td>0.969447</td>\n",
       "      <td>0.994524</td>\n",
       "      <td>0.969284</td>\n",
       "      <td>0.994525</td>\n",
       "    </tr>\n",
       "    <tr>\n",
       "      <th>2</th>\n",
       "      <td>LinearSVC</td>\n",
       "      <td>0.175497</td>\n",
       "      <td>0.003282</td>\n",
       "      <td>0.963085</td>\n",
       "      <td>0.986777</td>\n",
       "      <td>0.963136</td>\n",
       "      <td>0.986786</td>\n",
       "      <td>0.963228</td>\n",
       "      <td>0.986805</td>\n",
       "      <td>0.963085</td>\n",
       "      <td>0.986777</td>\n",
       "    </tr>\n",
       "    <tr>\n",
       "      <th>3</th>\n",
       "      <td>LogisticRegression</td>\n",
       "      <td>0.511798</td>\n",
       "      <td>0.003204</td>\n",
       "      <td>0.938017</td>\n",
       "      <td>0.959366</td>\n",
       "      <td>0.938022</td>\n",
       "      <td>0.959340</td>\n",
       "      <td>0.938028</td>\n",
       "      <td>0.959323</td>\n",
       "      <td>0.938017</td>\n",
       "      <td>0.959366</td>\n",
       "    </tr>\n",
       "    <tr>\n",
       "      <th>4</th>\n",
       "      <td>SGDClassifier</td>\n",
       "      <td>0.085710</td>\n",
       "      <td>0.004408</td>\n",
       "      <td>0.932645</td>\n",
       "      <td>0.953960</td>\n",
       "      <td>0.932995</td>\n",
       "      <td>0.954091</td>\n",
       "      <td>0.933949</td>\n",
       "      <td>0.954410</td>\n",
       "      <td>0.932645</td>\n",
       "      <td>0.953960</td>\n",
       "    </tr>\n",
       "    <tr>\n",
       "      <th>5</th>\n",
       "      <td>MultinomialNB</td>\n",
       "      <td>0.014040</td>\n",
       "      <td>0.008046</td>\n",
       "      <td>0.900275</td>\n",
       "      <td>0.926171</td>\n",
       "      <td>0.898311</td>\n",
       "      <td>0.925046</td>\n",
       "      <td>0.901647</td>\n",
       "      <td>0.927600</td>\n",
       "      <td>0.900275</td>\n",
       "      <td>0.926171</td>\n",
       "    </tr>\n",
       "    <tr>\n",
       "      <th>6</th>\n",
       "      <td>AdaBoostClassifier</td>\n",
       "      <td>7.524926</td>\n",
       "      <td>1.416489</td>\n",
       "      <td>0.823829</td>\n",
       "      <td>0.825310</td>\n",
       "      <td>0.827676</td>\n",
       "      <td>0.828883</td>\n",
       "      <td>0.865229</td>\n",
       "      <td>0.867162</td>\n",
       "      <td>0.823829</td>\n",
       "      <td>0.825310</td>\n",
       "    </tr>\n",
       "  </tbody>\n",
       "</table>\n",
       "</div>"
      ],
      "text/plain": [
       "                Algorithm  Training Time  Prediction Time  Accuracy : Test  \\\n",
       "0  DecisionTreeClassifier      11.636869         0.075253         0.973691   \n",
       "1       BaggingClassifier     104.855820         0.871345         0.969284   \n",
       "2               LinearSVC       0.175497         0.003282         0.963085   \n",
       "3      LogisticRegression       0.511798         0.003204         0.938017   \n",
       "4           SGDClassifier       0.085710         0.004408         0.932645   \n",
       "5           MultinomialNB       0.014040         0.008046         0.900275   \n",
       "6      AdaBoostClassifier       7.524926         1.416489         0.823829   \n",
       "\n",
       "   Accuracy : Train  F1 Score : Test  F1 Score : Train  Precision : Test  \\\n",
       "0          0.996247         0.973697          0.996244          0.973704   \n",
       "1          0.994525         0.969335          0.994522          0.969447   \n",
       "2          0.986777         0.963136          0.986786          0.963228   \n",
       "3          0.959366         0.938022          0.959340          0.938028   \n",
       "4          0.953960         0.932995          0.954091          0.933949   \n",
       "5          0.926171         0.898311          0.925046          0.901647   \n",
       "6          0.825310         0.827676          0.828883          0.865229   \n",
       "\n",
       "   Precision : Train  Recall : Test  Recall : Train  \n",
       "0           0.996251       0.973691        0.996247  \n",
       "1           0.994524       0.969284        0.994525  \n",
       "2           0.986805       0.963085        0.986777  \n",
       "3           0.959323       0.938017        0.959366  \n",
       "4           0.954410       0.932645        0.953960  \n",
       "5           0.927600       0.900275        0.926171  \n",
       "6           0.867162       0.823829        0.825310  "
      ]
     },
     "execution_count": 55,
     "metadata": {},
     "output_type": "execute_result"
    }
   ],
   "source": [
    "results = performfinalresult(final_result)\n",
    "results.reset_index(drop = True)"
   ]
  },
  {
   "cell_type": "code",
   "execution_count": 56,
   "id": "528876b0-bd28-4506-adf7-6294d8de42ae",
   "metadata": {},
   "outputs": [
    {
     "data": {
      "text/html": [
       "<div>\n",
       "<style scoped>\n",
       "    .dataframe tbody tr th:only-of-type {\n",
       "        vertical-align: middle;\n",
       "    }\n",
       "\n",
       "    .dataframe tbody tr th {\n",
       "        vertical-align: top;\n",
       "    }\n",
       "\n",
       "    .dataframe thead th {\n",
       "        text-align: right;\n",
       "    }\n",
       "</style>\n",
       "<table border=\"1\" class=\"dataframe\">\n",
       "  <thead>\n",
       "    <tr style=\"text-align: right;\">\n",
       "      <th></th>\n",
       "      <th>Training Time</th>\n",
       "      <th>Prediction Time</th>\n",
       "      <th>Accuracy : Test</th>\n",
       "      <th>Accuracy : Train</th>\n",
       "      <th>F1 Score : Test</th>\n",
       "      <th>F1 Score : Train</th>\n",
       "      <th>Precision : Test</th>\n",
       "      <th>Precision : Train</th>\n",
       "      <th>Recall : Test</th>\n",
       "      <th>Recall : Train</th>\n",
       "    </tr>\n",
       "  </thead>\n",
       "  <tbody>\n",
       "    <tr>\n",
       "      <th>min</th>\n",
       "      <td>0.01404</td>\n",
       "      <td>0.003204</td>\n",
       "      <td>0.823829</td>\n",
       "      <td>0.825310</td>\n",
       "      <td>0.827676</td>\n",
       "      <td>0.828883</td>\n",
       "      <td>0.865229</td>\n",
       "      <td>0.867162</td>\n",
       "      <td>0.823829</td>\n",
       "      <td>0.825310</td>\n",
       "    </tr>\n",
       "    <tr>\n",
       "      <th>max</th>\n",
       "      <td>104.85582</td>\n",
       "      <td>1.416489</td>\n",
       "      <td>0.973691</td>\n",
       "      <td>0.996247</td>\n",
       "      <td>0.973697</td>\n",
       "      <td>0.996244</td>\n",
       "      <td>0.973704</td>\n",
       "      <td>0.996251</td>\n",
       "      <td>0.973691</td>\n",
       "      <td>0.996247</td>\n",
       "    </tr>\n",
       "  </tbody>\n",
       "</table>\n",
       "</div>"
      ],
      "text/plain": [
       "     Training Time  Prediction Time  Accuracy : Test  Accuracy : Train  \\\n",
       "min        0.01404         0.003204         0.823829          0.825310   \n",
       "max      104.85582         1.416489         0.973691          0.996247   \n",
       "\n",
       "     F1 Score : Test  F1 Score : Train  Precision : Test  Precision : Train  \\\n",
       "min         0.827676          0.828883          0.865229           0.867162   \n",
       "max         0.973697          0.996244          0.973704           0.996251   \n",
       "\n",
       "     Recall : Test  Recall : Train  \n",
       "min       0.823829        0.825310  \n",
       "max       0.973691        0.996247  "
      ]
     },
     "execution_count": 56,
     "metadata": {},
     "output_type": "execute_result"
    }
   ],
   "source": [
    "results.describe().loc[['min', 'max'], :]"
   ]
  },
  {
   "cell_type": "markdown",
   "id": "451ff62e-f643-4db3-b63d-1a81ff549b37",
   "metadata": {},
   "source": [
    "Summary in Graph"
   ]
  },
  {
   "cell_type": "code",
   "execution_count": 57,
   "id": "772b2faf-9b55-4ae0-bb97-c221951823e2",
   "metadata": {},
   "outputs": [
    {
     "data": {
      "image/png": "[encoded data removed]",
      "text/plain": [
       "<Figure size 1500x600 with 1 Axes>"
      ]
     },
     "metadata": {},
     "output_type": "display_data"
    }
   ],
   "source": [
    "best_acc = results[results['Accuracy : Test'] == results['Accuracy : Test'].max()]\n",
    "best_f1 = results[results['F1 Score : Test'] == results['F1 Score : Test'].max()]\n",
    "best_precision = results[results['Precision : Test'] == results['Precision : Test'].max()]\n",
    "best_recall = results[results['Recall : Test'] == results['Recall : Test'].max()]\n",
    "\n",
    "sns.set_style('darkgrid')\n",
    "plt.figure(figsize = (15, 6))\n",
    "\n",
    "barWidth = 0.17\n",
    " \n",
    "# set height of bar\n",
    "bars1 = results['Accuracy : Test']\n",
    "bars2 = results['F1 Score : Test']\n",
    "\n",
    "# Set position of bar on X axis\n",
    "r1 = np.arange(len(bars1))\n",
    "r2 = [x + barWidth for x in r1]\n",
    "\n",
    "# Make the plot\n",
    "pal = sns.color_palette()\n",
    "plt.bar(r1, bars1, color= pal[0], width=barWidth, edgecolor='white', label='Test Accuracy')\n",
    "plt.bar(r2, bars2, color= pal[1], width=barWidth, edgecolor='white', label='Test F1 Score')\n",
    "\n",
    "# Add xticks on the middle of the group bars\n",
    "plt.xlabel('Algorithm', fontweight='bold', fontsize = 13)\n",
    "plt.ylabel('Score', fontweight = 'bold', fontsize = 13)\n",
    "plt.xticks([r + barWidth for r in range(len(bars1))], results['Algorithm'], rotation = 15, fontsize = 11)\n",
    " \n",
    "# Create legend & Show graphic\n",
    "plt.legend(fontsize = 13)\n",
    "\n",
    "textstr = '\\n'.join(['Best Accuracy: {:.3f} - {}'.format(best_acc['Accuracy : Test'].values[0], best_acc['Algorithm'].values[0]), \n",
    "                     'Best F1 Score: {:.3f} - {}'.format(best_f1['F1 Score : Test'].values[0], best_f1['Algorithm'].values[0])])\n",
    "props = dict(boxstyle='round', facecolor='lightgrey', alpha=0.5)\n",
    "\n",
    "plt.title('Classification Summary of Algorithms', fontweight = 'bold', fontsize = 17);"
   ]
  },
  {
   "cell_type": "markdown",
   "id": "df16cd08-92a5-4585-8de0-a09030a52d28",
   "metadata": {},
   "source": [
    "Training and Prediction time of Algorithm"
   ]
  },
  {
   "cell_type": "code",
   "execution_count": 58,
   "id": "32c128df-15bb-42c4-abcb-4f7b3ac900b3",
   "metadata": {},
   "outputs": [
    {
     "data": {
      "text/plain": [
       "Text(0.5, 1.0, 'Training and Prediction time of Algorithms')"
      ]
     },
     "execution_count": 58,
     "metadata": {},
     "output_type": "execute_result"
    },
    {
     "data": {
      "image/png": "[encoded data removed]",
      "text/plain": [
       "<Figure size 1200x700 with 1 Axes>"
      ]
     },
     "metadata": {},
     "output_type": "display_data"
    }
   ],
   "source": [
    "best_train_time = results[results['Training Time'] == results['Training Time'].min()]\n",
    "worst_train_time = results[results['Training Time'] == results['Training Time'].max()]\n",
    "best_prediction_time = results[results['Prediction Time'] == results['Prediction Time'].min()]\n",
    "worst_prediction_time = results[results['Prediction Time'] == results['Prediction Time'].max()]\n",
    "\n",
    "plt.figure(figsize = (12, 7))\n",
    "\n",
    "barWidth = 0.17\n",
    " \n",
    "# set height of bar\n",
    "bars1 = results['Training Time']\n",
    "bars2 = results['Prediction Time']\n",
    " \n",
    "# Set position of bar on X axis\n",
    "r1 = np.arange(len(bars1))\n",
    "r2 = [x + barWidth for x in r1]\n",
    " \n",
    "# Make the plot\n",
    "plt.bar(r1, bars1, color= pal[0], width=barWidth, edgecolor='white', label='Training Time')\n",
    "plt.bar(r2, bars2, color= pal[1], width=barWidth, edgecolor='white', label='Prediction Time')\n",
    " \n",
    "# Add xticks on the middle of the group bars\n",
    "plt.xlabel('Algorithm', fontweight='bold', fontsize = 13)\n",
    "plt.ylabel('Time (seconds)', fontweight = 'bold', fontsize = 13)\n",
    "plt.xticks([r + barWidth for r in range(len(bars1))], results['Algorithm'], rotation = 15, fontsize = 11)\n",
    "\n",
    "\n",
    "textstr = '\\n'.join(('Best Training Time: {:.3f} - {}'.format(best_train_time['Training Time'].values[0], best_train_time['Algorithm'].values[0]), \n",
    "                     'Worst Training Time: {:.3f} - {}'.format(worst_train_time['Training Time'].values[0], worst_train_time['Algorithm'].values[0]),\n",
    "                   'Best Prediction Time: {:.3f} - {}'.format(best_prediction_time['Training Time'].values[0], best_prediction_time['Algorithm'].values[0]), \n",
    "                    'Worst Prediction Time: {:.3f} - {}'.format(worst_prediction_time['Training Time'].values[0], worst_prediction_time['Algorithm'].values[0])))\n",
    "props = dict(boxstyle='round', facecolor='lightgrey', alpha=0.5)\n",
    "\n",
    "#place a text box\n",
    "plt.text(3.2, 12, textstr, fontsize=14,  bbox=props) \n",
    "\n",
    "# Create legend & Show graphic\n",
    "plt.legend(fontsize = 13)\n",
    "plt.title('Training and Prediction time of Algorithms', fontweight = 'bold', fontsize = 17)"
   ]
  },
  {
   "cell_type": "code",
   "execution_count": 59,
   "id": "c0d8b349-08f5-4da8-bd21-f164ccb4072e",
   "metadata": {},
   "outputs": [
    {
     "data": {
      "text/html": [
       "<div>\n",
       "<style scoped>\n",
       "    .dataframe tbody tr th:only-of-type {\n",
       "        vertical-align: middle;\n",
       "    }\n",
       "\n",
       "    .dataframe tbody tr th {\n",
       "        vertical-align: top;\n",
       "    }\n",
       "\n",
       "    .dataframe thead th {\n",
       "        text-align: right;\n",
       "    }\n",
       "</style>\n",
       "<table border=\"1\" class=\"dataframe\">\n",
       "  <thead>\n",
       "    <tr style=\"text-align: right;\">\n",
       "      <th></th>\n",
       "      <th>headline</th>\n",
       "      <th>label</th>\n",
       "      <th>length_headline</th>\n",
       "    </tr>\n",
       "  </thead>\n",
       "  <tbody>\n",
       "    <tr>\n",
       "      <th>0</th>\n",
       "      <td>You are so pathetic, just disappear.</td>\n",
       "      <td>1</td>\n",
       "      <td>36</td>\n",
       "    </tr>\n",
       "    <tr>\n",
       "      <th>1</th>\n",
       "      <td>No one likes you, stop trying.</td>\n",
       "      <td>1</td>\n",
       "      <td>30</td>\n",
       "    </tr>\n",
       "    <tr>\n",
       "      <th>2</th>\n",
       "      <td>You’ll never be good at anything.</td>\n",
       "      <td>1</td>\n",
       "      <td>33</td>\n",
       "    </tr>\n",
       "    <tr>\n",
       "      <th>3</th>\n",
       "      <td>Everyone hates you, loser.</td>\n",
       "      <td>1</td>\n",
       "      <td>26</td>\n",
       "    </tr>\n",
       "    <tr>\n",
       "      <th>4</th>\n",
       "      <td>Just quit, you’re worthless.</td>\n",
       "      <td>1</td>\n",
       "      <td>28</td>\n",
       "    </tr>\n",
       "  </tbody>\n",
       "</table>\n",
       "</div>"
      ],
      "text/plain": [
       "                               headline  label  length_headline\n",
       "0  You are so pathetic, just disappear.      1               36\n",
       "1        No one likes you, stop trying.      1               30\n",
       "2     You’ll never be good at anything.      1               33\n",
       "3            Everyone hates you, loser.      1               26\n",
       "4          Just quit, you’re worthless.      1               28"
      ]
     },
     "execution_count": 59,
     "metadata": {},
     "output_type": "execute_result"
    }
   ],
   "source": [
    "\n",
    "df.head()"
   ]
  },
  {
   "cell_type": "code",
   "execution_count": 60,
   "id": "bf0f4184-e4f3-4a71-93f0-3686d76b523f",
   "metadata": {},
   "outputs": [
    {
     "name": "stdout",
     "output_type": "stream",
     "text": [
      "[1]\n",
      "bullying\n"
     ]
    },
    {
     "name": "stderr",
     "output_type": "stream",
     "text": [
      "C:\\Python311\\Lib\\site-packages\\sklearn\\feature_extraction\\text.py:406: UserWarning: Your stop_words may be inconsistent with your preprocessing. Tokenizing the stop words generated tokens ['ninad'] not in stop_words.\n",
      "  warnings.warn(\n"
     ]
    }
   ],
   "source": [
    "data = [\"you are a loser\"]\n",
    "\n",
    "tfidf_vector = TfidfVectorizer(stop_words=content_list, lowercase=True, vocabulary=pickle.load(open(\"tfidfvectoizer.pkl\", \"rb\")))\n",
    "preprocessed_data = tfidf_vector.fit_transform(data)\n",
    "\n",
    "trained_model = pickle.load(open('LinearSVC.pkl', 'rb'))\n",
    "print(trained_model.predict(preprocessed_data))\n",
    "\n",
    "if(trained_model.predict(preprocessed_data)==1):\n",
    "    print(\"bullying\")\n",
    "else:\n",
    "    print(\"non-bullying\")"
   ]
  },
  {
   "cell_type": "markdown",
   "id": "4b2c11e4-e991-45d3-a149-4de48e68b3ea",
   "metadata": {},
   "source": [
    "Fine Tuining"
   ]
  },
  {
   "cell_type": "code",
   "execution_count": 61,
   "id": "e06a2eb2-325c-4170-a30d-87e835a849ff",
   "metadata": {},
   "outputs": [],
   "source": [
    "from sklearn.model_selection import GridSearchCV\n",
    "\n",
    "def tuining(clf, param_dict, X_train, y_train, X_test, y_test):\n",
    "    scorer = make_scorer(f1_score)\n",
    "    \n",
    "    grid_obj = GridSearchCV(estimator=clf, param_grid=param_dict, scoring=scorer, cv=5)\n",
    "    \n",
    "    grid_fit = grid_obj.fit(X_train, y_train)\n",
    "    \n",
    "    best_clf = grid_fit.best_estimator_\n",
    "    \n",
    "    prediction = (clf.fit(X_train, y_train)).predict(X_test)\n",
    "    \n",
    "    best_prediction = best_clf.predict(X_test)\n",
    "    \n",
    "    print(clf.__class__.__name__)\n",
    "    print(f\"Best Parameter:  {grid_fit.best_params_}\")\n",
    "    \n",
    "    print(f\"Accuracy:  {accuracy_score(y_test, best_prediction)}\")\n",
    "\n",
    "    print(f\"F1 Score :  {f1_score(y_test, best_prediction)}\")\n",
    "    \n",
    "    print(f\"Precision :  {precision_score(y_test, best_prediction)}\")\n",
    "    \n",
    "    print(f\"Recall:  {recall_score(y_test, best_prediction)}\")"
   ]
  },
  {
   "cell_type": "code",
   "execution_count": 62,
   "id": "065d22c7-5eee-4b54-aa55-5ae48ada74b6",
   "metadata": {},
   "outputs": [
    {
     "name": "stdout",
     "output_type": "stream",
     "text": [
      "LinearSVC\n",
      "Best Parameter:  {'C': 1.2}\n",
      "Accuracy:  0.9637741046831956\n",
      "F1 Score :  0.9718746658111432\n",
      "Precision :  0.975107296137339\n",
      "Recall:  0.9686633979961629\n"
     ]
    }
   ],
   "source": [
    "param_grid = {\n",
    "    'C': [0.25, 0.5, 0.75, 1, 1.2]\n",
    "}\n",
    "\n",
    "clf_model = LinearSVC()\n",
    "\n",
    "tuining(clf_model, param_grid, training_data, y_train, testing_data, y_test)"
   ]
  },
  {
   "cell_type": "code",
   "execution_count": 63,
   "id": "5cb0ed90-d50d-4fbd-b5db-b94d84ba9f44",
   "metadata": {},
   "outputs": [],
   "source": [
    "pickle.dump(clf_model, open(\"LinearSVCTuned.pkl\", \"wb\"))"
   ]
  },
  {
   "cell_type": "code",
   "execution_count": null,
   "id": "907bad82-0e8b-4af1-a77d-745038f44a97",
   "metadata": {},
   "outputs": [],
   "source": []
  },
  {
   "cell_type": "code",
   "execution_count": null,
   "id": "4c6f4c03-eedd-4dd0-8252-e1e9ba62e379",
   "metadata": {},
   "outputs": [],
   "source": []
  }
 ],
 "metadata": {
  "kernelspec": {
   "display_name": "Python 3 (ipykernel)",
   "language": "python",
   "name": "python3"
  },
  "language_info": {
   "codemirror_mode": {
    "name": "ipython",
    "version": 3
   },
   "file_extension": ".py",
   "mimetype": "text/x-python",
   "name": "python",
   "nbconvert_exporter": "python",
   "pygments_lexer": "ipython3",
   "version": "3.11.2"
  },
  "vscode": {
   "interpreter": {
    "hash": "c261aea317cc0286b3b3261fbba9abdec21eaa57589985bb7a274bf54d6cc0a7"
   }
  }
 },
 "nbformat": 4,
 "nbformat_minor": 5
}
