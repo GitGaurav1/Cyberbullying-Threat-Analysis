{
 "cells": [
  {
   "cell_type": "code",
   "execution_count": 6,
   "id": "56cb46fe-5b9b-4d8f-aa38-bb5354262a29",
   "metadata": {},
   "outputs": [],
   "source": [
    "import pandas as pd\n",
    "import numpy as np\n",
    "import matplotlib.pyplot as plt\n",
    "import seaborn as sns\n",
    "plt.style.use(\"ggplot\")\n",
    "\n",
    "import re\n",
    "import nltk\n",
    "\n",
    "from sklearn.feature_extraction.text import TfidfVectorizer, TfidfTransformer, CountVectorizer\n",
    "from nltk import sent_tokenize, word_tokenize\n",
    "from sklearn.metrics import f1_score, accuracy_score, precision_score, recall_score, make_scorer\n",
    "\n",
    "from time import time\n",
    "import pickle"
   ]
  },
  {
   "cell_type": "code",
   "execution_count": 7,
   "id": "2d8e9a13-5cff-469c-b7d0-652ad14e0df6",
   "metadata": {},
   "outputs": [],
   "source": [
    "df = pd.read_csv(\"dataset.csv\")"
   ]
  },
  {
   "cell_type": "code",
   "execution_count": 8,
   "id": "ee45e06f-2f78-4c99-87d9-32b8566d0a39",
   "metadata": {},
   "outputs": [
    {
     "data": {
      "text/html": [
       "<div>\n",
       "<style scoped>\n",
       "    .dataframe tbody tr th:only-of-type {\n",
       "        vertical-align: middle;\n",
       "    }\n",
       "\n",
       "    .dataframe tbody tr th {\n",
       "        vertical-align: top;\n",
       "    }\n",
       "\n",
       "    .dataframe thead th {\n",
       "        text-align: right;\n",
       "    }\n",
       "</style>\n",
       "<table border=\"1\" class=\"dataframe\">\n",
       "  <thead>\n",
       "    <tr style=\"text-align: right;\">\n",
       "      <th></th>\n",
       "      <th>headline</th>\n",
       "      <th>label</th>\n",
       "    </tr>\n",
       "  </thead>\n",
       "  <tbody>\n",
       "    <tr>\n",
       "      <th>0</th>\n",
       "      <td>you are such a loser, no one cares</td>\n",
       "      <td>-1</td>\n",
       "    </tr>\n",
       "    <tr>\n",
       "      <th>1</th>\n",
       "      <td>Great Job on your presentation</td>\n",
       "      <td>-1</td>\n",
       "    </tr>\n",
       "    <tr>\n",
       "      <th>2</th>\n",
       "      <td>fuck your filthy mother in the ass  dry</td>\n",
       "      <td>-1</td>\n",
       "    </tr>\n",
       "    <tr>\n",
       "      <th>3</th>\n",
       "      <td>get fuck  ed up  get fuck  ed up got a drink t...</td>\n",
       "      <td>-1</td>\n",
       "    </tr>\n",
       "    <tr>\n",
       "      <th>4</th>\n",
       "      <td>stupid peace of  shit  stop deleting my stuff ...</td>\n",
       "      <td>-1</td>\n",
       "    </tr>\n",
       "  </tbody>\n",
       "</table>\n",
       "</div>"
      ],
      "text/plain": [
       "                                            headline  label\n",
       "0                 you are such a loser, no one cares     -1\n",
       "1                     Great Job on your presentation     -1\n",
       "2            fuck your filthy mother in the ass  dry     -1\n",
       "3  get fuck  ed up  get fuck  ed up got a drink t...     -1\n",
       "4  stupid peace of  shit  stop deleting my stuff ...     -1"
      ]
     },
     "execution_count": 8,
     "metadata": {},
     "output_type": "execute_result"
    }
   ],
   "source": [
    "\n",
    "df.head()"
   ]
  },
  {
   "cell_type": "code",
   "execution_count": 9,
   "id": "e6fed277-5393-418f-b951-ce31d92d1b6e",
   "metadata": {},
   "outputs": [
    {
     "data": {
      "text/plain": [
       "array([-1,  0], dtype=int64)"
      ]
     },
     "execution_count": 9,
     "metadata": {},
     "output_type": "execute_result"
    }
   ],
   "source": [
    "df['label'].unique()"
   ]
  },
  {
   "cell_type": "markdown",
   "id": "3fefa0d6-5990-4ffa-9276-c938f9b75c52",
   "metadata": {},
   "source": [
    "Dataframe manipulation\n"
   ]
  },
  {
   "cell_type": "code",
   "execution_count": 10,
   "id": "707a6374-5662-4e1f-9edf-97ed838fa1eb",
   "metadata": {},
   "outputs": [],
   "source": [
    "def perform_data_manipulation():\n",
    "    df = pd.read_csv(\"dataset.csv\")\n",
    "    \n",
    "    for index in df.index:\n",
    "        if df.loc[index, \"label\"]==-1:\n",
    "            df.loc[index, \"label\"] = 1\n",
    "    return df"
   ]
  },
  {
   "cell_type": "code",
   "execution_count": 11,
   "id": "18821f4e-31a2-473a-920e-c96fd7c5c3b2",
   "metadata": {},
   "outputs": [],
   "source": [
    "df = perform_data_manipulation()"
   ]
  },
  {
   "cell_type": "code",
   "execution_count": 12,
   "id": "321f0537-0e9f-43fc-8397-033622568634",
   "metadata": {},
   "outputs": [
    {
     "data": {
      "text/html": [
       "<div>\n",
       "<style scoped>\n",
       "    .dataframe tbody tr th:only-of-type {\n",
       "        vertical-align: middle;\n",
       "    }\n",
       "\n",
       "    .dataframe tbody tr th {\n",
       "        vertical-align: top;\n",
       "    }\n",
       "\n",
       "    .dataframe thead th {\n",
       "        text-align: right;\n",
       "    }\n",
       "</style>\n",
       "<table border=\"1\" class=\"dataframe\">\n",
       "  <thead>\n",
       "    <tr style=\"text-align: right;\">\n",
       "      <th></th>\n",
       "      <th>headline</th>\n",
       "      <th>label</th>\n",
       "    </tr>\n",
       "  </thead>\n",
       "  <tbody>\n",
       "    <tr>\n",
       "      <th>0</th>\n",
       "      <td>you are such a loser, no one cares</td>\n",
       "      <td>1</td>\n",
       "    </tr>\n",
       "    <tr>\n",
       "      <th>1</th>\n",
       "      <td>Great Job on your presentation</td>\n",
       "      <td>1</td>\n",
       "    </tr>\n",
       "    <tr>\n",
       "      <th>2</th>\n",
       "      <td>fuck your filthy mother in the ass  dry</td>\n",
       "      <td>1</td>\n",
       "    </tr>\n",
       "    <tr>\n",
       "      <th>3</th>\n",
       "      <td>get fuck  ed up  get fuck  ed up got a drink t...</td>\n",
       "      <td>1</td>\n",
       "    </tr>\n",
       "    <tr>\n",
       "      <th>4</th>\n",
       "      <td>stupid peace of  shit  stop deleting my stuff ...</td>\n",
       "      <td>1</td>\n",
       "    </tr>\n",
       "  </tbody>\n",
       "</table>\n",
       "</div>"
      ],
      "text/plain": [
       "                                            headline  label\n",
       "0                 you are such a loser, no one cares      1\n",
       "1                     Great Job on your presentation      1\n",
       "2            fuck your filthy mother in the ass  dry      1\n",
       "3  get fuck  ed up  get fuck  ed up got a drink t...      1\n",
       "4  stupid peace of  shit  stop deleting my stuff ...      1"
      ]
     },
     "execution_count": 12,
     "metadata": {},
     "output_type": "execute_result"
    }
   ],
   "source": [
    "df.head()"
   ]
  },
  {
   "cell_type": "code",
   "execution_count": 13,
   "id": "4291587a-82db-426c-9b49-e6538d3f56c0",
   "metadata": {},
   "outputs": [
    {
     "data": {
      "text/plain": [
       "array([1, 0], dtype=int64)"
      ]
     },
     "execution_count": 13,
     "metadata": {},
     "output_type": "execute_result"
    }
   ],
   "source": [
    "df['label'].unique()"
   ]
  },
  {
   "cell_type": "code",
   "execution_count": 14,
   "id": "f74ca676-496d-4c34-8da9-a002dfeb83ff",
   "metadata": {},
   "outputs": [
    {
     "data": {
      "text/plain": [
       "18148"
      ]
     },
     "execution_count": 14,
     "metadata": {},
     "output_type": "execute_result"
    }
   ],
   "source": [
    "df.shape[0]"
   ]
  },
  {
   "cell_type": "markdown",
   "id": "9388e3d3-2255-48ec-9d5d-a3c6ebaf0cee",
   "metadata": {},
   "source": [
    "Classification using Pie Chart"
   ]
  },
  {
   "cell_type": "code",
   "execution_count": 15,
   "id": "7862cfde-bdce-4327-952c-c1b651bfc7e7",
   "metadata": {},
   "outputs": [],
   "source": [
    "def performdatadistribution(df):\n",
    "    total = df.shape[0]\n",
    "    num_non_toxic = df[df['label']==0].shape[0]\n",
    "    \n",
    "    slices = [num_non_toxic/total, (total-num_non_toxic)/total]\n",
    "    \n",
    "    labeling = ['Non-Toxic', 'Toxic']\n",
    "    \n",
    "    explode = [0.2, 0]\n",
    "    \n",
    "    plt.pie(slices, explode = explode, shadow=True, autopct=\"%1.1f%%\", labels = labeling, wedgeprops={'edgecolor': 'black'})\n",
    "    \n",
    "    plt.title('Number of Toxic Vs Non- Toxic Test Sample')\n",
    "    \n",
    "    plt.tight_layout()\n",
    "    \n",
    "    plt.show()"
   ]
  },
  {
   "cell_type": "code",
   "execution_count": 16,
   "id": "195a9fc4-fb8a-4faf-b466-2b8110e5b630",
   "metadata": {},
   "outputs": [
    {
     "data": {
      "image/png": "[encoded data removed]",
      "text/plain": [
       "<Figure size 640x480 with 1 Axes>"
      ]
     },
     "metadata": {},
     "output_type": "display_data"
    }
   ],
   "source": [
    "performdatadistribution(df)"
   ]
  },
  {
   "cell_type": "code",
   "execution_count": 17,
   "id": "b64f91c6-93fe-43ec-865d-88dd54726767",
   "metadata": {},
   "outputs": [],
   "source": [
    "def remove_pattern(input_txt, pattern):\n",
    "    if (type(input_txt)==str):\n",
    "        r = re.findall(pattern, input_txt)\n",
    "        for i in r:\n",
    "            input_txt = re.sub(i, '', input_txt)\n",
    "        return input_txt\n",
    "    else:\n",
    "        return \"\""
   ]
  },
  {
   "cell_type": "code",
   "execution_count": 18,
   "id": "73721c14-cbed-4dab-863c-913a25255279",
   "metadata": {},
   "outputs": [
    {
     "data": {
      "text/html": [
       "<div>\n",
       "<style scoped>\n",
       "    .dataframe tbody tr th:only-of-type {\n",
       "        vertical-align: middle;\n",
       "    }\n",
       "\n",
       "    .dataframe tbody tr th {\n",
       "        vertical-align: top;\n",
       "    }\n",
       "\n",
       "    .dataframe thead th {\n",
       "        text-align: right;\n",
       "    }\n",
       "</style>\n",
       "<table border=\"1\" class=\"dataframe\">\n",
       "  <thead>\n",
       "    <tr style=\"text-align: right;\">\n",
       "      <th></th>\n",
       "      <th>headline</th>\n",
       "      <th>label</th>\n",
       "    </tr>\n",
       "  </thead>\n",
       "  <tbody>\n",
       "    <tr>\n",
       "      <th>0</th>\n",
       "      <td>you are such a loser, no one cares</td>\n",
       "      <td>1</td>\n",
       "    </tr>\n",
       "  </tbody>\n",
       "</table>\n",
       "</div>"
      ],
      "text/plain": [
       "                             headline  label\n",
       "0  you are such a loser, no one cares      1"
      ]
     },
     "execution_count": 18,
     "metadata": {},
     "output_type": "execute_result"
    }
   ],
   "source": [
    "df.head(1)"
   ]
  },
  {
   "cell_type": "code",
   "execution_count": 21,
   "id": "c81f9f5f-35f0-4fd1-bb40-96af8141ed34",
   "metadata": {},
   "outputs": [],
   "source": [
    "def datasetCleaning(df):\n",
    "    # Add a column for the length of the headlines\n",
    "    df['length_headline'] = df['headline'].str.len()\n",
    "    \n",
    "    # Combine the dataframe with itself\n",
    "    combined_df = pd.concat([df, df], ignore_index=True)\n",
    "    \n",
    "    # Remove @user patterns\n",
    "    combined_df['tidy_tweet'] = np.vectorize(remove_pattern)(combined_df['headline'], \"@[\\w]*\")\n",
    "    \n",
    "    # Remove non-alphabetic characters\n",
    "    combined_df['tidy_tweet'] = combined_df['tidy_tweet'].str.replace(\"[^a-zA-Z#]\", \" \", regex=True)\n",
    "    \n",
    "    # Remove all words with length less than 3\n",
    "    combined_df['tidy_tweet'] = combined_df['tidy_tweet'].apply(lambda x: ' '.join([w for w in x.split() if len(w) > 3]))\n",
    "    \n",
    "    # Add a column for the length of the cleaned tweets\n",
    "    combined_df['length_tidy_tweet'] = combined_df['tidy_tweet'].str.len()\n",
    "    \n",
    "    # Tokenize the tweets\n",
    "    tokenized_tweet = combined_df['tidy_tweet'].apply(lambda x: x.split())\n",
    "    \n",
    "    # Download NLTK WordNet data (if not already downloaded)\n",
    "    nltk.download('wordnet')\n",
    "    \n",
    "    # Lemmatize tokens\n",
    "    lemmatizer = nltk.stem.WordNetLemmatizer()\n",
    "    tokenized_tweet = tokenized_tweet.apply(lambda x: [lemmatizer.lemmatize(i) for i in x])\n",
    "    \n",
    "    # Join tokens back into sentences\n",
    "    tokenized_tweet = tokenized_tweet.apply(lambda x: ' '.join(x))\n",
    "    combined_df['tidy_tweet'] = tokenized_tweet\n",
    "    \n",
    "    return combined_df, df"
   ]
  },
  {
   "cell_type": "code",
   "execution_count": 22,
   "id": "9fd85f20-13a8-43b0-8ed1-3a953ba775f8",
   "metadata": {},
   "outputs": [
    {
     "name": "stderr",
     "output_type": "stream",
     "text": [
      "[nltk_data] Downloading package wordnet to\n",
      "[nltk_data]     C:\\Users\\acer\\AppData\\Roaming\\nltk_data...\n"
     ]
    }
   ],
   "source": [
    "# Call the function\n",
    "combined_df, df = datasetCleaning(df)"
   ]
  },
  {
   "cell_type": "code",
   "execution_count": 23,
   "id": "057a3963-fb17-43c2-ac32-1dab0fab9000",
   "metadata": {},
   "outputs": [
    {
     "data": {
      "text/html": [
       "<div>\n",
       "<style scoped>\n",
       "    .dataframe tbody tr th:only-of-type {\n",
       "        vertical-align: middle;\n",
       "    }\n",
       "\n",
       "    .dataframe tbody tr th {\n",
       "        vertical-align: top;\n",
       "    }\n",
       "\n",
       "    .dataframe thead th {\n",
       "        text-align: right;\n",
       "    }\n",
       "</style>\n",
       "<table border=\"1\" class=\"dataframe\">\n",
       "  <thead>\n",
       "    <tr style=\"text-align: right;\">\n",
       "      <th></th>\n",
       "      <th>headline</th>\n",
       "      <th>label</th>\n",
       "      <th>length_headline</th>\n",
       "      <th>tidy_tweet</th>\n",
       "      <th>length_tidy_tweet</th>\n",
       "    </tr>\n",
       "  </thead>\n",
       "  <tbody>\n",
       "    <tr>\n",
       "      <th>0</th>\n",
       "      <td>you are such a loser, no one cares</td>\n",
       "      <td>1</td>\n",
       "      <td>34</td>\n",
       "      <td>such loser care</td>\n",
       "      <td>16</td>\n",
       "    </tr>\n",
       "    <tr>\n",
       "      <th>1</th>\n",
       "      <td>Great Job on your presentation</td>\n",
       "      <td>1</td>\n",
       "      <td>30</td>\n",
       "      <td>Great your presentation</td>\n",
       "      <td>23</td>\n",
       "    </tr>\n",
       "    <tr>\n",
       "      <th>2</th>\n",
       "      <td>fuck your filthy mother in the ass  dry</td>\n",
       "      <td>1</td>\n",
       "      <td>39</td>\n",
       "      <td>fuck your filthy mother</td>\n",
       "      <td>23</td>\n",
       "    </tr>\n",
       "    <tr>\n",
       "      <th>3</th>\n",
       "      <td>get fuck  ed up  get fuck  ed up got a drink t...</td>\n",
       "      <td>1</td>\n",
       "      <td>121</td>\n",
       "      <td>fuck fuck drink that cant down fuck fuck fuck ...</td>\n",
       "      <td>51</td>\n",
       "    </tr>\n",
       "    <tr>\n",
       "      <th>4</th>\n",
       "      <td>stupid peace of  shit  stop deleting my stuff ...</td>\n",
       "      <td>1</td>\n",
       "      <td>93</td>\n",
       "      <td>stupid peace shit stop deleting stuff hole fal...</td>\n",
       "      <td>57</td>\n",
       "    </tr>\n",
       "  </tbody>\n",
       "</table>\n",
       "</div>"
      ],
      "text/plain": [
       "                                            headline  label  length_headline  \\\n",
       "0                 you are such a loser, no one cares      1               34   \n",
       "1                     Great Job on your presentation      1               30   \n",
       "2            fuck your filthy mother in the ass  dry      1               39   \n",
       "3  get fuck  ed up  get fuck  ed up got a drink t...      1              121   \n",
       "4  stupid peace of  shit  stop deleting my stuff ...      1               93   \n",
       "\n",
       "                                          tidy_tweet  length_tidy_tweet  \n",
       "0                                    such loser care                 16  \n",
       "1                            Great your presentation                 23  \n",
       "2                            fuck your filthy mother                 23  \n",
       "3  fuck fuck drink that cant down fuck fuck fuck ...                 51  \n",
       "4  stupid peace shit stop deleting stuff hole fal...                 57  "
      ]
     },
     "execution_count": 23,
     "metadata": {},
     "output_type": "execute_result"
    }
   ],
   "source": [
    "combined_df.head()"
   ]
  },
  {
   "cell_type": "markdown",
   "id": "5f3af1e4-9de8-436e-bbb3-322f000a8d87",
   "metadata": {},
   "source": [
    "Dataset Splitting"
   ]
  },
  {
   "cell_type": "code",
   "execution_count": 24,
   "id": "1fc2fcd1-2470-4b58-8d1e-9cc44bf8a450",
   "metadata": {},
   "outputs": [],
   "source": [
    "from sklearn.model_selection import train_test_split"
   ]
  },
  {
   "cell_type": "code",
   "execution_count": 25,
   "id": "36cbe73e-d935-44eb-9b62-3f7e869bdb6d",
   "metadata": {},
   "outputs": [],
   "source": [
    "def performdatasplit(x, y, combined_df, df):\n",
    "    X_train, X_test, y_train, y_test = train_test_split(combined_df['tidy_tweet'], combined_df['label'], test_size = x, random_state = y)\n",
    "    print(f\"Number of rows in the total dataset: {combined_df.shape[0]}\")\n",
    "    print(f\"Number of rows in the train dataset: {X_train.shape[0]}\")\n",
    "    print(f\"Number of rows in the test dataset: {X_test.shape[0]}\")\n",
    "    \n",
    "    files = open(\"stopwords.txt\" , \"r\")\n",
    "    content = files.read()\n",
    "    content_list = content.split(\"\\n\")\n",
    "    files.close()\n",
    "    \n",
    "    tfidfvector = TfidfVectorizer(stop_words=content_list, lowercase=True)\n",
    "    \n",
    "    training_data = tfidfvector.fit_transform(X_train.values.astype('U'))\n",
    "    \n",
    "    testing_data = tfidfvector.transform(X_test.values.astype('U'))\n",
    "    \n",
    "    filename = 'tfidfvectoizer.pkl'\n",
    "    \n",
    "    pickle.dump(tfidfvector.vocabulary_, open(filename, 'wb'))\n",
    "    \n",
    "    return X_train , X_test, y_train, y_test, testing_data, filename, training_data, content_list"
   ]
  },
  {
   "cell_type": "code",
   "execution_count": 26,
   "id": "6120e1a7-62fc-4aac-8989-ed1696db2b60",
   "metadata": {},
   "outputs": [
    {
     "name": "stdout",
     "output_type": "stream",
     "text": [
      "Number of rows in the total dataset: 36296\n",
      "Number of rows in the train dataset: 29036\n",
      "Number of rows in the test dataset: 7260\n"
     ]
    },
    {
     "name": "stderr",
     "output_type": "stream",
     "text": [
      "C:\\Python311\\Lib\\site-packages\\sklearn\\feature_extraction\\text.py:406: UserWarning: Your stop_words may be inconsistent with your preprocessing. Tokenizing the stop words generated tokens ['ninad'] not in stop_words.\n",
      "  warnings.warn(\n"
     ]
    }
   ],
   "source": [
    "X_train , X_test, y_train, y_test, testing_data, filename, training_data, content_list = performdatasplit(0.2, 42, combined_df, df)"
   ]
  },
  {
   "cell_type": "markdown",
   "id": "9590bcbe-b2a1-4e66-8f47-0cd9e09c8d0c",
   "metadata": {},
   "source": [
    "Apply Machine Learning Algorithm"
   ]
  },
  {
   "cell_type": "code",
   "execution_count": 29,
   "id": "0cf6fb37-8eca-4b09-a534-32397c11c8d4",
   "metadata": {},
   "outputs": [],
   "source": [
    "import xgboost as xgb\n",
    "from sklearn.naive_bayes import MultinomialNB\n",
    "from sklearn.tree import DecisionTreeClassifier\n",
    "from sklearn.svm import LinearSVC\n",
    "from sklearn.ensemble import AdaBoostClassifier, RandomForestClassifier, BaggingClassifier\n",
    "from sklearn.linear_model import LogisticRegression, SGDClassifier\n",
    "from sklearn.neighbors import KNeighborsClassifier"
   ]
  },
  {
   "cell_type": "code",
   "execution_count": 30,
   "id": "ddd89e03-3bae-4171-9ec6-684cc8da0212",
   "metadata": {},
   "outputs": [],
   "source": [
    "def pipeline(X_train, y_train, X_test, y_test):\n",
    "    MODELS = [LinearSVC(), LogisticRegression(), MultinomialNB(), DecisionTreeClassifier(),\n",
    "              AdaBoostClassifier(), BaggingClassifier(), SGDClassifier()]\n",
    "    \n",
    "    size = len(y_train)\n",
    "    \n",
    "    results = {}\n",
    "    \n",
    "    final_result = []\n",
    "    \n",
    "    for model in MODELS:\n",
    "        results['Algorithm'] = model.__class__.__name__\n",
    "        \n",
    "        start = time()\n",
    "        print(f\"Training Time : {model.__class__.__name__}\")\n",
    "        model.fit(X_train, y_train)\n",
    "        end = time()\n",
    "        \n",
    "        filename = model.__class__.__name__+\".pkl\"\n",
    "        pickle.dump(model, open(filename, \"wb\"))\n",
    "        \n",
    "        results['Training Time'] = end - start\n",
    "        \n",
    "        start = time()\n",
    "        prediction_test = model.predict(X_test)\n",
    "        prediction_train = model.predict(X_train)\n",
    "        end = time()\n",
    "        \n",
    "        results['Prediction Time'] = end - start\n",
    "        \n",
    "        results['Accuracy : Test'] = accuracy_score(y_test, prediction_test)\n",
    "        results['Accuracy : Train'] = accuracy_score(y_train, prediction_train)\n",
    "        \n",
    "        results['F1 Score : Test'] = f1_score(y_test, prediction_test)\n",
    "        results['F1 Score : Train'] = f1_score(y_train, prediction_train)\n",
    "        \n",
    "        results['Precision : Test'] = precision_score(y_test, prediction_test)\n",
    "        results['Precision : Train'] = precision_score(y_train, prediction_train)\n",
    "        \n",
    "        results['Recall : Test'] = recall_score(y_test, prediction_test)\n",
    "        results['Recall : Train'] = recall_score(y_train, prediction_train)\n",
    "        \n",
    "        print(f\"Training {model.__class__.__name__} finished in {results['Training Time']} sec\")\n",
    "        \n",
    "        final_result.append(results.copy())\n",
    "    return final_result\n",
    "        "
   ]
  },
  {
   "cell_type": "code",
   "execution_count": 31,
   "id": "414aa8d5-72d1-4de8-9ca7-b093c2362d75",
   "metadata": {},
   "outputs": [
    {
     "name": "stdout",
     "output_type": "stream",
     "text": [
      "Training Time : LinearSVC\n",
      "Training LinearSVC finished in 0.2722809314727783 sec\n",
      "Training Time : LogisticRegression\n",
      "Training LogisticRegression finished in 1.1641767024993896 sec\n",
      "Training Time : MultinomialNB\n",
      "Training MultinomialNB finished in 0.021000385284423828 sec\n",
      "Training Time : DecisionTreeClassifier\n",
      "Training DecisionTreeClassifier finished in 16.893772840499878 sec\n",
      "Training Time : AdaBoostClassifier\n"
     ]
    },
    {
     "name": "stderr",
     "output_type": "stream",
     "text": [
      "C:\\Python311\\Lib\\site-packages\\sklearn\\ensemble\\_weight_boosting.py:527: FutureWarning: The SAMME.R algorithm (the default) is deprecated and will be removed in 1.6. Use the SAMME algorithm to circumvent this warning.\n",
      "  warnings.warn(\n"
     ]
    },
    {
     "name": "stdout",
     "output_type": "stream",
     "text": [
      "Training AdaBoostClassifier finished in 11.465134620666504 sec\n",
      "Training Time : BaggingClassifier\n",
      "Training BaggingClassifier finished in 148.11641788482666 sec\n",
      "Training Time : SGDClassifier\n",
      "Training SGDClassifier finished in 0.12340998649597168 sec\n"
     ]
    }
   ],
   "source": [
    "final_result = pipeline(training_data, y_train, testing_data, y_test)"
   ]
  },
  {
   "cell_type": "code",
   "execution_count": null,
   "id": "c22d8743-3555-4b14-a1ff-584fce638fc4",
   "metadata": {},
   "outputs": [],
   "source": []
  }
 ],
 "metadata": {
  "kernelspec": {
   "display_name": "Python 3 (ipykernel)",
   "language": "python",
   "name": "python3"
  },
  "language_info": {
   "codemirror_mode": {
    "name": "ipython",
    "version": 3
   },
   "file_extension": ".py",
   "mimetype": "text/x-python",
   "name": "python",
   "nbconvert_exporter": "python",
   "pygments_lexer": "ipython3",
   "version": "3.11.2"
  }
 },
 "nbformat": 4,
 "nbformat_minor": 5
}
